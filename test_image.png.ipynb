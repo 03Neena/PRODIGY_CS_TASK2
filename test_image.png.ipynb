{
 "cells": [
  {
   "cell_type": "code",
   "execution_count": 1,
   "id": "04afba4f-5975-4ce5-b72b-842d017dd38c",
   "metadata": {},
   "outputs": [
    {
     "name": "stdout",
     "output_type": "stream",
     "text": [
      "Test image created and saved as 'test_image.png'\n"
     ]
    }
   ],
   "source": [
    "from PIL import Image\n",
    "\n",
    "def create_test_image():\n",
    "    width, height = 100, 100  # Image size\n",
    "    color = (255, 0, 0)       # Red color (RGB)\n",
    "\n",
    "    # Create a new image with white background\n",
    "    img = Image.new('RGB', (width, height), color)\n",
    "\n",
    "    # Draw a simple pattern or fill the image with a color\n",
    "    for x in range(width):\n",
    "        for y in range(height):\n",
    "            img.putpixel((x, y), color)\n",
    "\n",
    "    img.save('test_image.png')\n",
    "    print(\"Test image created and saved as 'test_image.png'\")\n",
    "\n",
    "# Create the test image\n",
    "create_test_image()\n"
   ]
  }
 ],
 "metadata": {
  "kernelspec": {
   "display_name": "Python 3 (ipykernel)",
   "language": "python",
   "name": "python3"
  },
  "language_info": {
   "codemirror_mode": {
    "name": "ipython",
    "version": 3
   },
   "file_extension": ".py",
   "mimetype": "text/x-python",
   "name": "python",
   "nbconvert_exporter": "python",
   "pygments_lexer": "ipython3",
   "version": "3.12.4"
  }
 },
 "nbformat": 4,
 "nbformat_minor": 5
}
