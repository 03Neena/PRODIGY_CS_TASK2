{
 "cells": [
  {
   "cell_type": "code",
   "execution_count": 1,
   "id": "7c773ff8-f646-4849-8c5a-c8141195ae6a",
   "metadata": {},
   "outputs": [
    {
     "name": "stdout",
     "output_type": "stream",
     "text": [
      "Requirement already satisfied: pillow in c:\\users\\hp\\anaconda3\\lib\\site-packages (10.3.0)\n"
     ]
    }
   ],
   "source": [
    "!pip install pillow\n"
   ]
  },
  {
   "cell_type": "code",
   "execution_count": 5,
   "id": "8b4febd9-a5af-45ea-b54f-524d8cec51c2",
   "metadata": {},
   "outputs": [],
   "source": [
    "from PIL import Image\n",
    "\n"
   ]
  },
  {
   "cell_type": "code",
   "execution_count": 7,
   "id": "73420fe2-8e96-4878-85c6-98b7c1ea2ed8",
   "metadata": {},
   "outputs": [],
   "source": [
    "def load_image(image_path):\n",
    "    img = Image.open(image_path)\n",
    "    img = img.convert(\"RGB\")\n",
    "    return img\n",
    "\n",
    "def save_image(img, output_path):\n",
    "    img.save(output_path)\n",
    "\n"
   ]
  },
  {
   "cell_type": "code",
   "execution_count": 9,
   "id": "1ee352e5-3836-4f75-bdfb-5d27f98366a5",
   "metadata": {},
   "outputs": [],
   "source": [
    "def encrypt_image(img, shift_value):\n",
    "    encrypted_img = img.copy()\n",
    "    pixels = encrypted_img.load()\n",
    "    \n",
    "    for i in range(encrypted_img.width):\n",
    "        for j in range(encrypted_img.height):\n",
    "            r, g, b = pixels[i, j]\n",
    "            pixels[i, j] = ((r + shift_value) % 256, (g + shift_value) % 256, (b + shift_value) % 256)\n",
    "    \n",
    "    return encrypted_img\n",
    "\n",
    "def decrypt_image(img, shift_value):\n",
    "    decrypted_img = img.copy()\n",
    "    pixels = decrypted_img.load()\n",
    "    \n",
    "    for i in range(decrypted_img.width):\n",
    "        for j in range(decrypted_img.height):\n",
    "            r, g, b = pixels[i, j]\n",
    "            pixels[i, j] = ((r - shift_value) % 256, (g - shift_value) % 256, (b - shift_value) % 256)\n",
    "    \n",
    "    return decrypted_img\n"
   ]
  },
  {
   "cell_type": "code",
   "execution_count": 11,
   "id": "a3abc4e9-37b3-41fa-9d61-56a589e8dc72",
   "metadata": {},
   "outputs": [
    {
     "name": "stdin",
     "output_type": "stream",
     "text": [
      "Enter the path to your image:  test_image.png\n",
      "Enter the shift value for encryption:  10\n"
     ]
    },
    {
     "name": "stdout",
     "output_type": "stream",
     "text": [
      "Image encrypted and saved as 'encrypted_image.png'\n",
      "Image decrypted and saved as 'decrypted_image.png'\n"
     ]
    }
   ],
   "source": [
    "def main():\n",
    "    image_path = input(\"Enter the path to your image: \")\n",
    "    shift_value = int(input(\"Enter the shift value for encryption: \"))\n",
    "    \n",
    "    img = load_image(image_path)\n",
    "    \n",
    "    encrypted_img = encrypt_image(img, shift_value)\n",
    "    save_image(encrypted_img, \"encrypted_image.png\")\n",
    "    print(\"Image encrypted and saved as 'encrypted_image.png'\")\n",
    "    \n",
    "    decrypted_img = decrypt_image(encrypted_img, shift_value)\n",
    "    save_image(decrypted_img, \"decrypted_image.png\")\n",
    "    print(\"Image decrypted and saved as 'decrypted_image.png'\")\n",
    "\n",
    "# Run the program\n",
    "main()\n"
   ]
  }
 ],
 "metadata": {
  "kernelspec": {
   "display_name": "Python 3 (ipykernel)",
   "language": "python",
   "name": "python3"
  },
  "language_info": {
   "codemirror_mode": {
    "name": "ipython",
    "version": 3
   },
   "file_extension": ".py",
   "mimetype": "text/x-python",
   "name": "python",
   "nbconvert_exporter": "python",
   "pygments_lexer": "ipython3",
   "version": "3.12.4"
  }
 },
 "nbformat": 4,
 "nbformat_minor": 5
}
